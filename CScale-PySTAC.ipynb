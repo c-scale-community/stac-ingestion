{
 "cells": [
  {
   "cell_type": "code",
   "execution_count": 1,
   "id": "0ac36727",
   "metadata": {},
   "outputs": [
    {
     "name": "stdout",
     "output_type": "stream",
     "text": [
      "/home/driesj/.local/lib/python3.6/site-packages/secretstorage/dhcrypto.py:16: CryptographyDeprecationWarning: int_from_bytes is deprecated, use int.from_bytes instead\n",
      "  from cryptography.utils import int_from_bytes\n",
      "/home/driesj/.local/lib/python3.6/site-packages/secretstorage/util.py:25: CryptographyDeprecationWarning: int_from_bytes is deprecated, use int.from_bytes instead\n",
      "  from cryptography.utils import int_from_bytes\n",
      "Looking in indexes: https://artifactory.vgt.vito.be/api/pypi/python-packages/simple\n",
      "Requirement already satisfied: pystac in ./.local/lib/python3.6/site-packages (1.0.0rc2)\n",
      "Requirement already satisfied: typing-extensions>=3.7; python_version < \"3.8\" in ./.local/lib/python3.6/site-packages (from pystac) (3.7.4.2)\n",
      "Requirement already satisfied: python-dateutil>=2.7.0 in /usr/local/lib/python3.6/site-packages (from pystac) (2.8.0)\n",
      "Requirement already satisfied: six>=1.5 in /usr/local/lib/python3.6/site-packages (from python-dateutil>=2.7.0->pystac) (1.12.0)\n",
      "\u001b[33mWARNING: You are using pip version 19.3.1; however, version 21.3.1 is available.\n",
      "You should consider upgrading via the 'pip install --upgrade pip' command.\u001b[0m\n"
     ]
    }
   ],
   "source": [
    "!pip3.6 install --user pystac\n"
   ]
  },
  {
   "cell_type": "code",
   "execution_count": 2,
   "id": "9c001bb0",
   "metadata": {},
   "outputs": [],
   "source": [
    "import pystac\n"
   ]
  },
  {
   "cell_type": "markdown",
   "id": "b4715bf4",
   "metadata": {},
   "source": [
    "Reading full collection metadata from file is easier then having to construct it fully in Python, and avoids mistakes."
   ]
  },
  {
   "cell_type": "code",
   "execution_count": 18,
   "id": "c7e20c19",
   "metadata": {},
   "outputs": [],
   "source": [
    "collection = pystac.Collection.from_file(\"https://collections.eurodatacube.com/stac/sentinel-2-l1c.json\")"
   ]
  },
  {
   "cell_type": "code",
   "execution_count": 19,
   "id": "d5f737e8",
   "metadata": {},
   "outputs": [
    {
     "data": {
      "text/plain": [
       "'Sentinel-2 Level 1C, partial mirror by INCD.'"
      ]
     },
     "execution_count": 19,
     "metadata": {},
     "output_type": "execute_result"
    }
   ],
   "source": [
    "collection.description = \"Sentinel-2 Level 1C, partial mirror by INCD.\"\n",
    "collection.links = []\n",
    "collection.providers = []\n",
    "collection.description"
   ]
  },
  {
   "cell_type": "code",
   "execution_count": 20,
   "id": "ff167b77",
   "metadata": {},
   "outputs": [
    {
     "data": {
      "text/plain": [
       "[<pystac.collection.Provider at 0x7f4afd97e9b0>,\n",
       " <pystac.collection.Provider at 0x7f4afd97e780>,\n",
       " <pystac.collection.Provider at 0x7f4afd97efd0>,\n",
       " <pystac.collection.Provider at 0x7f4afd97ee80>]"
      ]
     },
     "execution_count": 20,
     "metadata": {},
     "output_type": "execute_result"
    }
   ],
   "source": [
    "collection.providers"
   ]
  },
  {
   "cell_type": "code",
   "execution_count": 15,
   "id": "630c7b94",
   "metadata": {},
   "outputs": [
    {
     "data": {
      "text/plain": [
       "{'type': 'Collection',\n",
       " 'id': 'sentinel-2-l1c',\n",
       " 'stac_version': '1.0.0',\n",
       " 'description': 'Sentinel-2 Level 1C, partial mirror by INCD.',\n",
       " 'links': [],\n",
       " 'stac_extensions': ['https://stac-extensions.github.io/datacube/v1.0.0/schema.json',\n",
       "  'https://stac-extensions.github.io/scientific/v1.0.0/schema.json',\n",
       "  'https://stac-extensions.github.io/eo/v1.0.0/schema.json'],\n",
       " 'datasource_type': 'sentinel-2-l1c',\n",
       " 'title': 'Sentinel-2 L1C',\n",
       " 'keywords': ['sentinel hub',\n",
       "  'xcube',\n",
       "  'raster',\n",
       "  'systematic',\n",
       "  'satellite imagery',\n",
       "  'multi spectral imagery',\n",
       "  'agriculture',\n",
       "  'natural resource',\n",
       "  'disaster response',\n",
       "  'open data',\n",
       "  'race challenges',\n",
       "  'copernicus',\n",
       "  'sentinel'],\n",
       " 'providers': [],\n",
       " 'cube:dimensions': {'x': {'type': 'spatial',\n",
       "   'axis': 'x',\n",
       "   'extent': [-180, 180],\n",
       "   'reference_system': {'$schema': 'https://proj.org/schemas/v0.4/projjson.schema.json',\n",
       "    'type': 'GeodeticCRS',\n",
       "    'name': 'AUTO 42001 (Universal Transverse Mercator)',\n",
       "    'datum': {'type': 'GeodeticReferenceFrame',\n",
       "     'name': 'World Geodetic System 1984',\n",
       "     'ellipsoid': {'name': 'WGS 84',\n",
       "      'semi_major_axis': 6378137,\n",
       "      'inverse_flattening': 298.257223563}},\n",
       "    'coordinate_system': {'subtype': 'ellipsoidal',\n",
       "     'axis': [{'name': 'Geodetic latitude',\n",
       "       'abbreviation': 'Lat',\n",
       "       'direction': 'north',\n",
       "       'unit': 'degree'},\n",
       "      {'name': 'Geodetic longitude',\n",
       "       'abbreviation': 'Lon',\n",
       "       'direction': 'east',\n",
       "       'unit': 'degree'}]},\n",
       "    'area': 'World',\n",
       "    'bbox': {'south_latitude': -90,\n",
       "     'west_longitude': -180,\n",
       "     'north_latitude': 90,\n",
       "     'east_longitude': 180},\n",
       "    'id': {'authority': 'OGC', 'version': '1.3', 'code': 'Auto42001'}}},\n",
       "  'y': {'type': 'spatial',\n",
       "   'axis': 'y',\n",
       "   'extent': [-56, 83],\n",
       "   'reference_system': {'$schema': 'https://proj.org/schemas/v0.4/projjson.schema.json',\n",
       "    'type': 'GeodeticCRS',\n",
       "    'name': 'AUTO 42001 (Universal Transverse Mercator)',\n",
       "    'datum': {'type': 'GeodeticReferenceFrame',\n",
       "     'name': 'World Geodetic System 1984',\n",
       "     'ellipsoid': {'name': 'WGS 84',\n",
       "      'semi_major_axis': 6378137,\n",
       "      'inverse_flattening': 298.257223563}},\n",
       "    'coordinate_system': {'subtype': 'ellipsoidal',\n",
       "     'axis': [{'name': 'Geodetic latitude',\n",
       "       'abbreviation': 'Lat',\n",
       "       'direction': 'north',\n",
       "       'unit': 'degree'},\n",
       "      {'name': 'Geodetic longitude',\n",
       "       'abbreviation': 'Lon',\n",
       "       'direction': 'east',\n",
       "       'unit': 'degree'}]},\n",
       "    'area': 'World',\n",
       "    'bbox': {'south_latitude': -90,\n",
       "     'west_longitude': -180,\n",
       "     'north_latitude': 90,\n",
       "     'east_longitude': 180},\n",
       "    'id': {'authority': 'OGC', 'version': '1.3', 'code': 'Auto42001'}}},\n",
       "  't': {'type': 'temporal',\n",
       "   'extent': ['2015-11-01T00:00:00Z', None],\n",
       "   'step': 'P5D'},\n",
       "  'bands': {'type': 'bands',\n",
       "   'values': ['B01',\n",
       "    'B02',\n",
       "    'B03',\n",
       "    'B04',\n",
       "    'B05',\n",
       "    'B06',\n",
       "    'B07',\n",
       "    'B08',\n",
       "    'B8A',\n",
       "    'B09',\n",
       "    'B10',\n",
       "    'B11',\n",
       "    'B12',\n",
       "    'CLP',\n",
       "    'CLM',\n",
       "    'sunAzimuthAngles',\n",
       "    'sunZenithAngles',\n",
       "    'viewAzimuthMean',\n",
       "    'viewZenithMean',\n",
       "    'dataMask']}},\n",
       " 'sci:citation': 'Modified Copernicus Sentinel data [Year]/Sentinel Hub',\n",
       " 'summaries': {'eo:bands': [{'name': 'B01',\n",
       "    'common_name': 'coastal',\n",
       "    'center_wavelength': 0.4427,\n",
       "    'full_width_half_max': 0.021,\n",
       "    'openeo:gsd': {'value': [60, 60], 'unit': 'm'}},\n",
       "   {'name': 'B02',\n",
       "    'common_name': 'blue',\n",
       "    'center_wavelength': 0.4924,\n",
       "    'full_width_half_max': 0.066,\n",
       "    'openeo:gsd': {'value': [10, 10], 'unit': 'm'}},\n",
       "   {'name': 'B03',\n",
       "    'common_name': 'green',\n",
       "    'center_wavelength': 0.5598,\n",
       "    'full_width_half_max': 0.036,\n",
       "    'openeo:gsd': {'value': [10, 10], 'unit': 'm'}},\n",
       "   {'name': 'B04',\n",
       "    'common_name': 'red',\n",
       "    'center_wavelength': 0.6646,\n",
       "    'full_width_half_max': 0.031,\n",
       "    'openeo:gsd': {'value': [10, 10], 'unit': 'm'}},\n",
       "   {'name': 'B05',\n",
       "    'center_wavelength': 0.7041,\n",
       "    'full_width_half_max': 0.015,\n",
       "    'openeo:gsd': {'value': [20, 20], 'unit': 'm'}},\n",
       "   {'name': 'B06',\n",
       "    'center_wavelength': 0.7405,\n",
       "    'full_width_half_max': 0.015,\n",
       "    'openeo:gsd': {'value': [20, 20], 'unit': 'm'}},\n",
       "   {'name': 'B07',\n",
       "    'center_wavelength': 0.7828,\n",
       "    'full_width_half_max': 0.02,\n",
       "    'openeo:gsd': {'value': [20, 20], 'unit': 'm'}},\n",
       "   {'name': 'B08',\n",
       "    'common_name': 'nir',\n",
       "    'center_wavelength': 0.8328,\n",
       "    'full_width_half_max': 0.106,\n",
       "    'openeo:gsd': {'value': [10, 10], 'unit': 'm'}},\n",
       "   {'name': 'B8A',\n",
       "    'common_name': 'nir08',\n",
       "    'center_wavelength': 0.8647,\n",
       "    'full_width_half_max': 0.021,\n",
       "    'openeo:gsd': {'value': [20, 20], 'unit': 'm'}},\n",
       "   {'name': 'B09',\n",
       "    'common_name': 'nir09',\n",
       "    'center_wavelength': 0.9451,\n",
       "    'full_width_half_max': 0.02,\n",
       "    'openeo:gsd': {'value': [60, 60], 'unit': 'm'}},\n",
       "   {'name': 'B10',\n",
       "    'common_name': 'cirrus',\n",
       "    'center_wavelength': 1.3735,\n",
       "    'full_width_half_max': 0.031,\n",
       "    'openeo:gsd': {'value': [60, 60], 'unit': 'm'}},\n",
       "   {'name': 'B11',\n",
       "    'common_name': 'swir16',\n",
       "    'center_wavelength': 1.6137,\n",
       "    'full_width_half_max': 0.091,\n",
       "    'openeo:gsd': {'value': [20, 20], 'unit': 'm'}},\n",
       "   {'name': 'B12',\n",
       "    'common_name': 'swir22',\n",
       "    'center_wavelength': 2.2024,\n",
       "    'full_width_half_max': 0.175,\n",
       "    'openeo:gsd': {'value': [20, 20], 'unit': 'm'}},\n",
       "   {'description': 'Cloud probability, based on s2cloudless',\n",
       "    'name': 'CLP',\n",
       "    'openeo:gsd': {'value': [160, 160], 'unit': 'm'}},\n",
       "   {'description': 'Cloud masks',\n",
       "    'name': 'CLM',\n",
       "    'openeo:gsd': {'value': [160, 160], 'unit': 'm'}},\n",
       "   {'description': 'Sun azimuth angle',\n",
       "    'name': 'sunAzimuthAngles',\n",
       "    'openeo:gsd': {'value': [5000, 5000], 'unit': 'm'}},\n",
       "   {'description': 'Sun zenith angle',\n",
       "    'name': 'sunZenithAngles',\n",
       "    'openeo:gsd': {'value': [5000, 5000], 'unit': 'm'}},\n",
       "   {'description': 'Viewing azimuth angle',\n",
       "    'name': 'viewAzimuthMean',\n",
       "    'openeo:gsd': {'value': [5000, 5000], 'unit': 'm'}},\n",
       "   {'description': 'Viewing zenith angle',\n",
       "    'name': 'viewZenithMean',\n",
       "    'openeo:gsd': {'value': [5000, 5000], 'unit': 'm'}},\n",
       "   {'description': 'The mask of data/no data pixels.', 'name': 'dataMask'}],\n",
       "  'constellation': ['sentinel-2'],\n",
       "  'gsd': [10, 30, 60],\n",
       "  'instruments': ['msi'],\n",
       "  'platform': ['sentinel-2a', 'sentinel-2b']},\n",
       " 'assets': {'thumbnail': {'href': 'https://collections.eurodatacube.com/sentinel-2-l1c/sentinel-2-l1c.png',\n",
       "   'type': 'image/png',\n",
       "   'title': 'Thumbnail',\n",
       "   'roles': ['thumbnail']}},\n",
       " 'extent': {'spatial': {'bbox': [[-180, -56, 180, 83]]},\n",
       "  'temporal': {'interval': [['2015-11-01T00:00:00Z', None]]}},\n",
       " 'license': 'proprietary'}"
      ]
     },
     "execution_count": 15,
     "metadata": {},
     "output_type": "execute_result"
    }
   ],
   "source": [
    "collection.to_dict()"
   ]
  },
  {
   "cell_type": "code",
   "execution_count": 21,
   "id": "0cef95dc",
   "metadata": {},
   "outputs": [],
   "source": [
    "import requests\n"
   ]
  },
  {
   "cell_type": "code",
   "execution_count": 22,
   "id": "63fd6854",
   "metadata": {},
   "outputs": [
    {
     "data": {
      "text/plain": [
       "<Response [401]>"
      ]
     },
     "execution_count": 22,
     "metadata": {},
     "output_type": "execute_result"
    }
   ],
   "source": [
    "requests.post(\"https://resto.c-scale.zcu.cz/collections\",json=collection.to_dict())"
   ]
  },
  {
   "cell_type": "code",
   "execution_count": 25,
   "id": "44be2d2a",
   "metadata": {},
   "outputs": [],
   "source": [
    "item = pystac.item.Item.from_file(\"https://earth-search.s3.us-west-2.amazonaws.com/sentinel-s2-l1c/50/R/KS/2021/6/S2B_50RKS_20210608_0_L1C/S2B_50RKS_20210608_0_L1C.json\")"
   ]
  },
  {
   "cell_type": "code",
   "execution_count": 28,
   "id": "e83fbab4",
   "metadata": {},
   "outputs": [
    {
     "data": {
      "text/plain": [
       "{'thumbnail': <Asset href=https://roda.sentinel-hub.com/sentinel-s2-l1c/tiles/50/R/KS/2021/6/8/0/preview.jpg>,\n",
       " 'info': <Asset href=https://roda.sentinel-hub.com/sentinel-s2-l1c/tiles/50/R/KS/2021/6/8/0/tileInfo.json>,\n",
       " 'metadata': <Asset href=https://roda.sentinel-hub.com/sentinel-s2-l1c/tiles/50/R/KS/2021/6/8/0/metadata.xml>,\n",
       " 'B01': <Asset href=s3://sentinel-s2-l1c/tiles/50/R/KS/2021/6/8/0/B01.jp2>,\n",
       " 'B02': <Asset href=s3://sentinel-s2-l1c/tiles/50/R/KS/2021/6/8/0/B02.jp2>,\n",
       " 'B03': <Asset href=s3://sentinel-s2-l1c/tiles/50/R/KS/2021/6/8/0/B03.jp2>,\n",
       " 'B04': <Asset href=s3://sentinel-s2-l1c/tiles/50/R/KS/2021/6/8/0/B04.jp2>,\n",
       " 'B05': <Asset href=s3://sentinel-s2-l1c/tiles/50/R/KS/2021/6/8/0/B05.jp2>,\n",
       " 'B06': <Asset href=s3://sentinel-s2-l1c/tiles/50/R/KS/2021/6/8/0/B06.jp2>,\n",
       " 'B07': <Asset href=s3://sentinel-s2-l1c/tiles/50/R/KS/2021/6/8/0/B07.jp2>,\n",
       " 'B08': <Asset href=s3://sentinel-s2-l1c/tiles/50/R/KS/2021/6/8/0/B08.jp2>,\n",
       " 'B8A': <Asset href=s3://sentinel-s2-l1c/tiles/50/R/KS/2021/6/8/0/B8A.jp2>,\n",
       " 'B09': <Asset href=s3://sentinel-s2-l1c/tiles/50/R/KS/2021/6/8/0/B09.jp2>,\n",
       " 'B10': <Asset href=s3://sentinel-s2-l1c/tiles/50/R/KS/2021/6/8/0/B10.jp2>,\n",
       " 'B11': <Asset href=s3://sentinel-s2-l1c/tiles/50/R/KS/2021/6/8/0/B11.jp2>,\n",
       " 'B12': <Asset href=s3://sentinel-s2-l1c/tiles/50/R/KS/2021/6/8/0/B12.jp2>,\n",
       " 'visual': <Asset href=s3://sentinel-s2-l1c/tiles/50/R/KS/2021/6/8/0/TCI.jp2>}"
      ]
     },
     "execution_count": 28,
     "metadata": {},
     "output_type": "execute_result"
    }
   ],
   "source": [
    "item.assets"
   ]
  },
  {
   "cell_type": "markdown",
   "id": "41d0b729",
   "metadata": {},
   "source": [
    "After setting up the collection, we can add items to it. Approach is the same: construct metadata, make post requests."
   ]
  },
  {
   "cell_type": "code",
   "execution_count": 27,
   "id": "4811b19c",
   "metadata": {},
   "outputs": [
    {
     "data": {
      "text/plain": [
       "<Response [401]>"
      ]
     },
     "execution_count": 27,
     "metadata": {},
     "output_type": "execute_result"
    }
   ],
   "source": [
    "requests.post(f\"https://resto.c-scale.zcu.cz/collections/{collection.id}/items\",json=item.to_dict())"
   ]
  }
 ],
 "metadata": {
  "kernelspec": {
   "display_name": "python36",
   "language": "python",
   "name": "python36"
  },
  "language_info": {
   "codemirror_mode": {
    "name": "ipython",
    "version": 3
   },
   "file_extension": ".py",
   "mimetype": "text/x-python",
   "name": "python",
   "nbconvert_exporter": "python",
   "pygments_lexer": "ipython3",
   "version": "3.6.8"
  }
 },
 "nbformat": 4,
 "nbformat_minor": 5
}
